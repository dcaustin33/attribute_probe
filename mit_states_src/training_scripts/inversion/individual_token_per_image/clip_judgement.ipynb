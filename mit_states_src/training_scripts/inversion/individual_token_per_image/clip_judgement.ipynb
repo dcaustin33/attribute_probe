{
 "cells": [
  {
   "cell_type": "code",
   "execution_count": null,
   "metadata": {},
   "outputs": [],
   "source": [
    "import os\n",
    "from PIL import Image\n",
    "import requests\n",
    "from matplotlib import pyplot as plt\n",
    "\n",
    "from transformers import CLIPProcessor, CLIPModel\n",
    "\n",
    "model = CLIPModel.from_pretrained(\"openai/clip-vit-base-patch16\")\n",
    "processor = CLIPProcessor.from_pretrained(\"openai/clip-vit-base-patch16\")\n",
    "\n",
    "images = []\n",
    "for image in os.listdir('generations/mandarin_fish/'):\n",
    "    images.append(Image.open('generations/mandarin_fish/' + image))\n",
    "\n",
    "\n",
    "inputs = processor(text=[\"a photo of a shirt wiht the texture of a mandarin fish\"], images=images, return_tensors=\"pt\", padding=True)\n",
    "for i in inputs:\n",
    "    inputs[i] = inputs[i].to('cuda')\n",
    "model = model.to('cuda')\n",
    "\n",
    "outputs = model(**inputs)\n"
   ]
  },
  {
   "cell_type": "code",
   "execution_count": null,
   "metadata": {},
   "outputs": [],
   "source": [
    "fig_width = 10\n",
    "fig_height = 1\n",
    "\n",
    "logits_per_image = outputs.logits_per_image\n",
    "sorted_images = [image for _, image in sorted(zip(logits_per_image, images), reverse=True)]\n",
    "\n",
    "# Calculate the number of rows and columns for the grid\n",
    "num_images = len(sorted_images)\n",
    "num_rows = int(num_images ** 0.5)\n",
    "num_cols = (num_images + num_rows - 1) // num_rows\n",
    "\n",
    "# Create a grid of subplots\n",
    "fig, axes = plt.subplots(num_rows, num_cols, figsize=(fig_width, fig_height))\n",
    "\n",
    "# Loop through the images and plot them in the subplots\n",
    "for i, ax in enumerate(axes.flat):\n",
    "    if i < num_images:\n",
    "        ax.imshow(sorted_images[i])\n",
    "    ax.axis('off')\n",
    "\n",
    "# Display the grid of subplots\n",
    "plt.show()"
   ]
  },
  {
   "cell_type": "code",
   "execution_count": null,
   "metadata": {},
   "outputs": [],
   "source": [
    "image = Image.open('generations/comparisons/mandarin_fish_tshirt.png')\n",
    "inputs = processor(text=[\"a photo of a person with worms for hair\"], images=image, return_tensors=\"pt\", padding=True)\n",
    "for i in inputs:\n",
    "    inputs[i] = inputs[i].to('cuda')\n",
    "\n",
    "output_comparison = model(**inputs)"
   ]
  },
  {
   "cell_type": "code",
   "execution_count": null,
   "metadata": {},
   "outputs": [],
   "source": [
    "from sklearn.metrics.pairwise import cosine_similarity\n",
    "\n",
    "image_embedding1 = outputs.image_embeds.detach().cpu().numpy()\n",
    "image_embedding2 = output_comparison.image_embeds.detach().cpu().numpy()\n",
    "\n",
    "# Compute the cosine similarity between image_embedding1 and image_embedding2\n",
    "similarity = cosine_similarity(image_embedding1, image_embedding2)\n",
    "\n",
    "sorted_images = [image for _, image in sorted(zip(similarity, images), reverse=True)]\n",
    "\n",
    "# Calculate the number of rows and columns for the grid\n",
    "num_images = len(sorted_images)\n",
    "num_rows = int(num_images ** 0.5)\n",
    "num_cols = (num_images + num_rows - 1) // num_rows\n",
    "\n",
    "# Create a grid of subplots\n",
    "fig, axes = plt.subplots(num_rows, num_cols, figsize=(fig_width, fig_height))\n",
    "\n",
    "# Loop through the images and plot them in the subplots\n",
    "for i, ax in enumerate(axes.flat):\n",
    "    if i < num_images:\n",
    "        ax.imshow(sorted_images[i])\n",
    "    ax.axis('off')\n",
    "\n",
    "# Display the grid of subplots\n",
    "plt.show()"
   ]
  },
  {
   "cell_type": "code",
   "execution_count": null,
   "metadata": {},
   "outputs": [],
   "source": [
    "image = Image.open('generations/comparisons/mandarin_fish.png')\n",
    "inputs = processor(text=[\"\"], images=image, return_tensors=\"pt\", padding=True)\n",
    "for i in inputs:\n",
    "    inputs[i] = inputs[i].to('cuda')\n",
    "\n",
    "output_comparison = model(**inputs)"
   ]
  },
  {
   "cell_type": "code",
   "execution_count": null,
   "metadata": {},
   "outputs": [],
   "source": [
    "from sklearn.metrics.pairwise import cosine_similarity\n",
    "\n",
    "image_embedding1 = outputs.image_embeds.detach().cpu().numpy()\n",
    "image_embedding2 = output_comparison.image_embeds.detach().cpu().numpy()\n",
    "\n",
    "# Compute the cosine similarity between image_embedding1 and image_embedding2\n",
    "similarity = cosine_similarity(image_embedding1, image_embedding2)\n",
    "\n",
    "sorted_images = [image for _, image in sorted(zip(similarity, images), reverse=True)]\n",
    "\n",
    "# Calculate the number of rows and columns for the grid\n",
    "num_images = len(sorted_images)\n",
    "num_rows = int(num_images ** 0.5) + 2\n",
    "num_cols = (num_images + num_rows - 1) // num_rows\n",
    "\n",
    "# Create a grid of subplots\n",
    "fig, axes = plt.subplots(num_rows, num_cols, figsize=(fig_width, fig_height))\n",
    "\n",
    "# Loop through the images and plot them in the subplots\n",
    "for i, ax in enumerate(axes.flat):\n",
    "    if i < num_images:\n",
    "        ax.imshow(sorted_images[i])\n",
    "    ax.axis('off')\n",
    "\n",
    "# Display the grid of subplots\n",
    "plt.show()"
   ]
  }
 ],
 "metadata": {
  "kernelspec": {
   "display_name": "pytorch",
   "language": "python",
   "name": "python3"
  },
  "language_info": {
   "codemirror_mode": {
    "name": "ipython",
    "version": 3
   },
   "file_extension": ".py",
   "mimetype": "text/x-python",
   "name": "python",
   "nbconvert_exporter": "python",
   "pygments_lexer": "ipython3",
   "version": "3.9.13"
  },
  "orig_nbformat": 4
 },
 "nbformat": 4,
 "nbformat_minor": 2
}
