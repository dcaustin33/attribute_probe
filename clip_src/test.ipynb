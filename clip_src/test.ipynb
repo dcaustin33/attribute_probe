{
 "cells": [
  {
   "cell_type": "code",
   "execution_count": 1,
   "metadata": {},
   "outputs": [],
   "source": [
    "from cub_dataset import Cub2011\n",
    "from torch.utils.data import DataLoader\n",
    "import torch\n",
    "import numpy as np\n",
    "import pandas as pd\n",
    "import torchvision\n",
    "import torchvision.transforms\n",
    "from models.clip_pretrained import CLIP_image\n",
    "\n",
    "transform = torchvision.transforms.Compose([\n",
    "    torchvision.transforms.Resize((224, 224)),\n",
    "    torchvision.transforms.ToTensor(),\n",
    "    torchvision.transforms.Normalize(mean=[0.485, 0.456, 0.406],\n",
    "                                        std=[0.229, 0.224, 0.225])\n",
    "])\n",
    "dataset_args = {\n",
    "                 'root': '../data',\n",
    "                 'crop_size': 224,\n",
    "                 'brightness': 0.4, \n",
    "                 'contrast': 0.4, \n",
    "                 'saturation': .2, \n",
    "                 'hue': .1, \n",
    "                 'color_jitter_prob': .4, \n",
    "                 'gray_scale_prob': 0.2, \n",
    "                 'horizontal_flip_prob': 0.5, \n",
    "                 'gaussian_prob': .5, \n",
    "                 'min_scale': 0.6, \n",
    "                 'max_scale': 0.95}\n",
    "\n",
    "dataset = Cub2011(dataset_args['root'], dataset_args, download=False)\n",
    "\n",
    "dataloader = DataLoader(dataset, batch_size=32,  shuffle=False, num_workers=0)\n",
    "for i, data in enumerate(dataloader):\n",
    "    break\n",
    "\n"
   ]
  },
  {
   "cell_type": "code",
   "execution_count": 2,
   "metadata": {},
   "outputs": [],
   "source": [
    "from PIL import Image\n",
    "import requests\n",
    "url = \"http://images.cocodataset.org/val2017/000000039769.jpg\"\n",
    "image = Image.open(requests.get(url, stream=True).raw)"
   ]
  },
  {
   "cell_type": "code",
   "execution_count": 3,
   "metadata": {},
   "outputs": [
    {
     "data": {
      "text/plain": [
       "torch.Size([1, 3, 224, 224])"
      ]
     },
     "execution_count": 3,
     "metadata": {},
     "output_type": "execute_result"
    }
   ],
   "source": [
    "from transformers import CLIPProcessor, CLIPModel\n",
    "processor = CLIPProcessor.from_pretrained(\"openai/clip-vit-base-patch32\")\n",
    "out = processor(text=\"a photo of a cat\", images=image, return_tensors=\"pt\", padding=True)\n",
    "out['pixel_values'].shape"
   ]
  },
  {
   "cell_type": "code",
   "execution_count": 4,
   "metadata": {},
   "outputs": [],
   "source": [
    "model = CLIPModel.from_pretrained(\"openai/clip-vit-base-patch32\")\n",
    "processor = CLIPProcessor.from_pretrained(\"openai/clip-vit-base-patch32\")\n",
    "\n",
    "url = \"http://images.cocodataset.org/val2017/000000039769.jpg\"\n",
    "image = Image.open(requests.get(url, stream=True).raw)\n",
    "\n",
    "inputs = processor(text=[\"a photo of a cat\", \"a photo of a dog\"], images = image, return_tensors=\"pt\", padding=True)\n",
    "\n",
    "outputs = model(**inputs)\n"
   ]
  },
  {
   "cell_type": "code",
   "execution_count": 6,
   "metadata": {},
   "outputs": [
    {
     "data": {
      "text/plain": [
       "odict_keys(['last_hidden_state', 'pooler_output'])"
      ]
     },
     "execution_count": 6,
     "metadata": {},
     "output_type": "execute_result"
    }
   ],
   "source": [
    "outputs.vision_model_output.keys()"
   ]
  },
  {
   "cell_type": "code",
   "execution_count": 39,
   "metadata": {},
   "outputs": [
    {
     "data": {
      "text/plain": [
       "torch.Size([32, 3, 224, 224])"
      ]
     },
     "execution_count": 39,
     "metadata": {},
     "output_type": "execute_result"
    }
   ],
   "source": [
    "data[0].shape"
   ]
  },
  {
   "cell_type": "code",
   "execution_count": 47,
   "metadata": {},
   "outputs": [
    {
     "name": "stdout",
     "output_type": "stream",
     "text": [
      "torch.Size([2, 312])\n"
     ]
    }
   ],
   "source": [
    "from transformers import CLIPProcessor, CLIPModel\n",
    "import torch.nn as nn\n",
    "\n",
    "class CLIP_text_image(nn.Module):\n",
    "\n",
    "    def __init__(self, args = None):\n",
    "        super().__init__()\n",
    "        self.args = args\n",
    "        self.clip = CLIPModel.from_pretrained(\"openai/clip-vit-base-patch32\")\n",
    "        self.processor = CLIPProcessor.from_pretrained(\"openai/clip-vit-base-patch32\")\n",
    "        self.linear1 = nn.Linear(312, 312)\n",
    "        self.classifier1 = nn.Sequential(nn.Linear(312, 312), nn.ReLU(), nn.BatchNorm1d(312), nn.Linear(312, 312))\n",
    "\n",
    "    def forward(self, prompts, images):\n",
    "        text = prompts\n",
    "        inputs = self.processor(text=text, return_tensors=\"pt\", padding=True)\n",
    "        for i in inputs:\n",
    "            inputs[i] = inputs[i].cuda()\n",
    "        inputs['pixel_values'] = images.cuda()\n",
    "        outputs = self.clip(**inputs)\n",
    "\n",
    "        binary_pred1 = self.linear1(outputs.logits_per_image)\n",
    "        classifier_pred1 = self.classifier1(outputs.logits_per_image)\n",
    "\n",
    "        print(outputs.logits_per_image.shape)\n",
    "\n",
    "\n",
    "        return (binary_pred1, classifier_pred1), outputs.logits_per_image\n",
    "\n",
    "with open('../data/CUB_200_2011/attributes.txt', 'r') as f:\n",
    "    lines = f.readlines()\n",
    "text_prompts = []\n",
    "for line in lines:\n",
    "\n",
    "    #base that will be used for every image\n",
    "    start = 'The bird has a '\n",
    "\n",
    "    #get the words before seeing the descriptor\n",
    "    beginning = ''\n",
    "    seen = False\n",
    "\n",
    "\n",
    "    for i in line.split()[1].split('_'):\n",
    "\n",
    "        #:: signigifies that the attribute value is on the other side\n",
    "        if '::' in i:\n",
    "            first_half = i.split('::')[0]\n",
    "            second_half = i.split('::')[1]\n",
    "            seen = True\n",
    "\n",
    "        #if we have seen the descriptor, we are done and ( signifies that\n",
    "        if '(' in i:\n",
    "            break\n",
    "        if i != 'has':\n",
    "            if '::' in i: continue\n",
    "            if seen: second_half += ' ' + i\n",
    "            else: beginning += i + ' '\n",
    "    start += second_half + ' ' + beginning  + first_half\n",
    "    text_prompts.append(start)\n",
    "model = CLIP_text_image(None)\n",
    "model = model.cuda()\n",
    "output = model(text_prompts, data[0][:2])\n"
   ]
  },
  {
   "cell_type": "code",
   "execution_count": 43,
   "metadata": {},
   "outputs": [],
   "source": []
  },
  {
   "cell_type": "code",
   "execution_count": 45,
   "metadata": {},
   "outputs": [
    {
     "data": {
      "text/plain": [
       "torch.Size([2, 312])"
      ]
     },
     "execution_count": 45,
     "metadata": {},
     "output_type": "execute_result"
    }
   ],
   "source": [
    "output[0][0].shape"
   ]
  },
  {
   "cell_type": "code",
   "execution_count": 27,
   "metadata": {},
   "outputs": [
    {
     "data": {
      "text/plain": [
       "'pattern::multi-colored'"
      ]
     },
     "execution_count": 27,
     "metadata": {},
     "output_type": "execute_result"
    }
   ],
   "source": [
    "i.replace('_', ' ')"
   ]
  },
  {
   "cell_type": "code",
   "execution_count": 17,
   "metadata": {},
   "outputs": [
    {
     "data": {
      "text/plain": [
       "'1 has_bill_shape::curved_(up_or_down)\\n'"
      ]
     },
     "execution_count": 17,
     "metadata": {},
     "output_type": "execute_result"
    }
   ],
   "source": [
    "lines[0]"
   ]
  }
 ],
 "metadata": {
  "kernelspec": {
   "display_name": "Python 3.9.13 ('pytorch')",
   "language": "python",
   "name": "python3"
  },
  "language_info": {
   "codemirror_mode": {
    "name": "ipython",
    "version": 3
   },
   "file_extension": ".py",
   "mimetype": "text/x-python",
   "name": "python",
   "nbconvert_exporter": "python",
   "pygments_lexer": "ipython3",
   "version": "3.9.13"
  },
  "orig_nbformat": 4,
  "vscode": {
   "interpreter": {
    "hash": "2d58e898dde0263bc564c6968b04150abacfd33eed9b19aaa8e45c040360e146"
   }
  }
 },
 "nbformat": 4,
 "nbformat_minor": 2
}
